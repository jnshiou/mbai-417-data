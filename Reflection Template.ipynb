{
  "nbformat": 4,
  "nbformat_minor": 0,
  "metadata": {
    "colab": {
      "name": "Reflection Template.ipynb",
      "provenance": [],
      "collapsed_sections": [],
      "authorship_tag": "ABX9TyOchNiCnk5fVvFdFdvkgmLB",
      "include_colab_link": true
    },
    "kernelspec": {
      "name": "python3",
      "display_name": "Python 3"
    },
    "language_info": {
      "name": "python"
    }
  },
  "cells": [
    {
      "cell_type": "markdown",
      "metadata": {
        "id": "view-in-github",
        "colab_type": "text"
      },
      "source": [
        "<a href=\"https://colab.research.google.com/github/brook-miller/mbai-417-data/blob/main/Reflection%20Template.ipynb\" target=\"_parent\"><img src=\"https://colab.research.google.com/assets/colab-badge.svg\" alt=\"Open In Colab\"/></a>"
      ]
    },
    {
      "cell_type": "markdown",
      "source": [
        "# Replace this with the lecture / discussion topic\n",
        "\n",
        "I provided 3 topics as an example if there are 2 or 5 that your groups agrees on do not feel the need to have 3.\n",
        "\n",
        "## Summarize the lecture / class discussion topics\n",
        "\n",
        "### Topic 1\n",
        "Discussion\n",
        "### Topic 2\n",
        "Discussion\n",
        "### Topic 3\n",
        "Discussion\n",
        "\n",
        "\n",
        "## Identify the key implications and takeaways\n",
        "\n",
        "### Topic 1\n",
        "Discussion\n",
        "### Topic 2\n",
        "Discussion\n",
        "### Topic 3\n",
        "Discussion\n",
        "\n",
        "## What additional resources / links can deliver more in depth knowledge / thinking about the lecture / class discussion topic\n",
        "\n",
        "### Topic 1\n",
        "Discussion\n",
        "### Topic 2\n",
        "Discussion\n",
        "### Topic 3\n",
        "Discussion"
      ],
      "metadata": {
        "id": "MxD874nwGfKr"
      }
    },
    {
      "cell_type": "code",
      "source": [
        ""
      ],
      "metadata": {
        "id": "509iHQCCLtDZ"
      },
      "execution_count": null,
      "outputs": []
    }
  ]
}