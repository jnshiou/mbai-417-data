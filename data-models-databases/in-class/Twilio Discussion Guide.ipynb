{
  "nbformat": 4,
  "nbformat_minor": 0,
  "metadata": {
    "colab": {
      "name": "Twilio Discussion Guide.ipynb",
      "provenance": [],
      "collapsed_sections": [],
      "authorship_tag": "ABX9TyOZipksZRn5Bm240bkY39Jo",
      "include_colab_link": true
    },
    "kernelspec": {
      "name": "python3",
      "display_name": "Python 3"
    },
    "language_info": {
      "name": "python"
    }
  },
  "cells": [
    {
      "cell_type": "markdown",
      "metadata": {
        "id": "view-in-github",
        "colab_type": "text"
      },
      "source": [
        "<a href=\"https://colab.research.google.com/github/brook-miller/mbai-417-data-private/blob/main/1.%20Data%20Models%20%26%20Databases/in-class/Twilio%20Discussion%20Guide.ipynb\" target=\"_parent\"><img src=\"https://colab.research.google.com/assets/colab-badge.svg\" alt=\"Open In Colab\"/></a>"
      ]
    },
    {
      "cell_type": "markdown",
      "source": [
        "How did Twilio start? What were their initial products?"
      ],
      "metadata": {
        "id": "sRY7cVLO23nV"
      }
    },
    {
      "cell_type": "markdown",
      "source": [
        "* response bullet points"
      ],
      "metadata": {
        "id": "jK0XHmFfCJgL"
      }
    },
    {
      "cell_type": "markdown",
      "source": [
        "What are some of the keys to implementing an API first strategy?  Think about 4P's, how would Twilio segment / target the market for their products?"
      ],
      "metadata": {
        "id": "NmlnkABP3Auf"
      }
    },
    {
      "cell_type": "markdown",
      "source": [
        "* response bullet points"
      ],
      "metadata": {
        "id": "DDgqSAW1CT4H"
      }
    },
    {
      "cell_type": "markdown",
      "source": [
        "What are the key needs of a developer first strategy?  What challenges occur as a customer's usage of Twilio grows?"
      ],
      "metadata": {
        "id": "lMvCQZlGCYDG"
      }
    },
    {
      "cell_type": "markdown",
      "source": [
        "* response bullet points"
      ],
      "metadata": {
        "id": "-l_IoAECJk4S"
      }
    }
  ]
}