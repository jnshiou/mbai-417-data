{
  "nbformat": 4,
  "nbformat_minor": 0,
  "metadata": {
    "colab": {
      "name": "Class 1 - Additional Readings.ipynb",
      "provenance": [],
      "authorship_tag": "ABX9TyOwQYnaSect4Z5hL+TmdEDF",
      "include_colab_link": true
    },
    "kernelspec": {
      "name": "python3",
      "display_name": "Python 3"
    },
    "language_info": {
      "name": "python"
    }
  },
  "cells": [
    {
      "cell_type": "markdown",
      "metadata": {
        "id": "view-in-github",
        "colab_type": "text"
      },
      "source": [
        "<a href=\"https://colab.research.google.com/github/brook-miller/mbai-417-data/blob/main/data-models-databases/Class%201%20-%20Additional%20Readings.ipynb\" target=\"_parent\"><img src=\"https://colab.research.google.com/assets/colab-badge.svg\" alt=\"Open In Colab\"/></a>"
      ]
    },
    {
      "cell_type": "markdown",
      "source": [
        "[APIs Aren’t Just for Tech Companies\n",
        "](https://hbr.org/2021/04/apis-arent-just-for-tech-companies)\n",
        "\n",
        "\n",
        "[The Case for ‘Developer Experience’](https://future.a16z.com/the-case-for-developer-experience/)"
      ],
      "metadata": {
        "id": "GNE7wTCs5lT0"
      }
    }
  ]
}