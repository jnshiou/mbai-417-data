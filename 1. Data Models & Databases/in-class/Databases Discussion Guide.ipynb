{
  "nbformat": 4,
  "nbformat_minor": 0,
  "metadata": {
    "colab": {
      "name": "Database Discussion Guide.ipynb",
      "provenance": [],
      "collapsed_sections": [],
      "authorship_tag": "ABX9TyMQr3YQCZ/ET704rOeCFTex",
      "include_colab_link": true
    },
    "kernelspec": {
      "name": "python3",
      "display_name": "Python 3"
    },
    "language_info": {
      "name": "python"
    }
  },
  "cells": [
    {
      "cell_type": "markdown",
      "metadata": {
        "id": "view-in-github",
        "colab_type": "text"
      },
      "source": [
        "<a href=\"https://colab.research.google.com/github/brook-miller/mbai-417-data-private/blob/main/1.%20Data%20Models%20%26%20Databases/in-class/Databases%20Discussion%20Guide.ipynb\" target=\"_parent\"><img src=\"https://colab.research.google.com/assets/colab-badge.svg\" alt=\"Open In Colab\"/></a>"
      ]
    },
    {
      "cell_type": "markdown",
      "source": [
        "What are your experiences working with databases?  What type of data?"
      ],
      "metadata": {
        "id": "sRY7cVLO23nV"
      }
    },
    {
      "cell_type": "markdown",
      "source": [
        "* response bullet points"
      ],
      "metadata": {
        "id": "jK0XHmFfCJgL"
      }
    },
    {
      "cell_type": "markdown",
      "source": [
        "There are a multitude of database options with many more appearing, what factors do you think are driving the increasing numbers and types?"
      ],
      "metadata": {
        "id": "NmlnkABP3Auf"
      }
    },
    {
      "cell_type": "markdown",
      "source": [
        "* response bullet points"
      ],
      "metadata": {
        "id": "DDgqSAW1CT4H"
      }
    }
  ]
}